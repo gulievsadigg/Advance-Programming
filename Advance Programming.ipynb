{
 "cells": [
  {
   "cell_type": "code",
   "execution_count": 16,
   "id": "96c83db6",
   "metadata": {},
   "outputs": [
    {
     "data": {
      "image/png": "[encoded data removed]",
      "text/plain": [
       "<Figure size 576x181 with 1 Axes>"
      ]
     },
     "metadata": {
      "needs_background": "light"
     },
     "output_type": "display_data"
    }
   ],
   "source": [
    "import tkinter as tk\n",
    "from tkinter import filedialog, messagebox\n",
    "import pandas as pd\n",
    "import seaborn as sns\n",
    "import matplotlib.pyplot as plt\n",
    "from matplotlib.backends.backend_tkagg import FigureCanvasTkAgg\n",
    "\n",
    "# Data connection function\n",
    "def load_data():\n",
    "    file_path = filedialog.askopenfilename()\n",
    "    try:\n",
    "        global df\n",
    "        df = pd.read_csv(file_path)\n",
    "        messagebox.showinfo(\"Success\", \"Dataset loaded successfully.\")\n",
    "    except Exception as e:\n",
    "        messagebox.showerror(\"Error\", f\"Dataset failed to load: {str(e)}\")\n",
    "\n",
    "# Data preprocessing function\n",
    "def clean_data():\n",
    "    try:\n",
    "        global df\n",
    "        df.dropna(inplace=True)\n",
    "        df.drop_duplicates() \n",
    "        messagebox.showinfo(\"Success\", \"Data cleared.\")\n",
    "    except Exception as e:\n",
    "        messagebox.showerror(\"Error\", f\"Data was not cleared: {str(e)}\")\n",
    "\n",
    "# Function to update combobox\n",
    "def update_combobox():\n",
    "    columns = list(df.columns)\n",
    "    combobox['values'] = columns            \n",
    "        \n",
    "# Interactive visualization function\n",
    "def plot_data():\n",
    "    try:\n",
    "        selected_column = combobox.get()\n",
    "        fig, ax = plt.subplots()\n",
    "        df.groupby(selected_column)['LUNG_CANCER'].value_counts(normalize=True).unstack().plot(kind='bar', ax=ax, figsize=(8, 5))\n",
    "        ax.set_title(f\"{selected_column} üzrə LUNG_CANCER paylanması\")\n",
    "        ax.set_xlabel(selected_column)\n",
    "        ax.set_ylabel(\"Ratio\")\n",
    "\n",
    "        canvas = FigureCanvasTkAgg(fig, master=root)\n",
    "        canvas.draw()\n",
    "        canvas.get_tk_widget().pack(pady=20)\n",
    "    except Exception as e:\n",
    "        messagebox.showerror(\"Error\", f\"Chart not created: {str(e)}\")\n",
    "        \n",
    "\n",
    "# Create the main window\n",
    "root = tk.Tk()\n",
    "root.title(\"Lung Cancer Prediction Dataset\")\n",
    "root.geometry(\"600x400\")\n",
    "\n",
    "# Button for data connection\n",
    "btn_load = tk.Button(root, text=\"Download dataset\", command=load_data)\n",
    "btn_load.pack(pady=10)\n",
    "\n",
    "# Button for data preprocessing\n",
    "btn_clean = tk.Button(root, text=\"Clear Data\", command=clean_data)\n",
    "btn_clean.pack(pady=10)\n",
    "\n",
    "# Combobox to select the column\n",
    "combobox = ttk.Combobox(root)\n",
    "combobox.pack(pady=10)\n",
    "\n",
    "# Button for data visualization\n",
    "btn_plot = tk.Button(root, text=\"Graph it\", command=plot_data)\n",
    "btn_plot.pack(pady=10)\n",
    "\n",
    "root.mainloop()\n"
   ]
  },
  {
   "cell_type": "code",
   "execution_count": null,
   "id": "f8177438",
   "metadata": {},
   "outputs": [],
   "source": []
  }
 ],
 "metadata": {
  "kernelspec": {
   "display_name": "Python 3 (ipykernel)",
   "language": "python",
   "name": "python3"
  },
  "language_info": {
   "codemirror_mode": {
    "name": "ipython",
    "version": 3
   },
   "file_extension": ".py",
   "mimetype": "text/x-python",
   "name": "python",
   "nbconvert_exporter": "python",
   "pygments_lexer": "ipython3",
   "version": "3.9.12"
  }
 },
 "nbformat": 4,
 "nbformat_minor": 5
}
